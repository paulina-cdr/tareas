{
  "nbformat": 4,
  "nbformat_minor": 0,
  "metadata": {
    "colab": {
      "provenance": []
    },
    "kernelspec": {
      "name": "python3",
      "display_name": "Python 3"
    },
    "language_info": {
      "name": "python"
    }
  },
  "cells": [
    {
      "cell_type": "code",
      "execution_count": 1,
      "metadata": {
        "colab": {
          "base_uri": "https://localhost:8080/"
        },
        "id": "MXMAjFm2Gkgb",
        "outputId": "7f75a818-b7dd-4607-8456-1bb00e9f6108"
      },
      "outputs": [
        {
          "output_type": "stream",
          "name": "stdout",
          "text": [
            " Dime la edad: 45\n",
            " Dime la edad: 13\n",
            " Dime la edad: 2\n",
            " Dime la edad: 85\n",
            " Dime la edad: 7\n",
            " Dime la edad: 14\n",
            " Dime la edad: 15\n",
            " Dime la edad: 18\n",
            " Dime la edad: 56\n",
            " Dime la edad: 21\n",
            "Los mayores de edad son:  5\n",
            "Los menores de edad son:  5\n"
          ]
        }
      ],
      "source": [
        "#Elabore un programa que:\n",
        "#Lea en un arreglo las edades de 10 personas (usar una función para leer los datos).\n",
        "#Elabore una función que cuente cuantas personas son mayores de edad y cuantas menores de edad.\n",
        "#Imprima en otra funcion cuantos son mayores de edad y cuantos menores de edad.\n",
        "#El programa debe tener 3 funciones: UNA PARA LEER LOS DATOS, LA SEGUNDA PARA OBTENER LOS MAYORES Y MENORES DE EDAD Y LA TERCERA PARA IMPRIMIR EL RESULTADO.\n",
        "edades=[]\n",
        "me=[]\n",
        "mne=[]\n",
        "def leer(edades):\n",
        "    for i in range(10):\n",
        "      edades.append(int(input(\" Dime la edad: \")))\n",
        "\n",
        "def cuant(me,mne):\n",
        "  for i in range(10):\n",
        "    if edades[i]>=18:\n",
        "      me.append(edades[i])\n",
        "    else:\n",
        "      mne.append(edades[i])\n",
        "def imp (me,mne):\n",
        "  print(\"Los mayores de edad son: \",len(me))\n",
        "  print(\"Los menores de edad son: \",len(mne))\n",
        "leer (edades)\n",
        "cuant (me,mne)\n",
        "imp (me,mne)"
      ]
    }
  ]
}