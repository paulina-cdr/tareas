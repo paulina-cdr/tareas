{
  "nbformat": 4,
  "nbformat_minor": 0,
  "metadata": {
    "colab": {
      "provenance": []
    },
    "kernelspec": {
      "name": "python3",
      "display_name": "Python 3"
    },
    "language_info": {
      "name": "python"
    }
  },
  "cells": [
    {
      "cell_type": "code",
      "source": [
        "# Crear una lista\n",
        "L = [\"The Bodyguard\", 7.0, 1992]\n",
        "L"
      ],
      "metadata": {
        "colab": {
          "base_uri": "https://localhost:8080/"
        },
        "id": "HI9MC_jDpz7w",
        "outputId": "db50ba21-e308-4459-bf46-f17c3f8fbd08"
      },
      "execution_count": 3,
      "outputs": [
        {
          "output_type": "execute_result",
          "data": {
            "text/plain": [
              "['The Bodyguard', 7.0, 1992]"
            ]
          },
          "metadata": {},
          "execution_count": 3
        }
      ]
    },
    {
      "cell_type": "code",
      "source": [
        "# Imprime los elementos en cada índice\n",
        "print('el mismo elemento usando indexación negativa y positiva:\\n Positivo:',L[0], '\\n Negativo:' , L[-3] )\n",
        "print('el mismo elemento usando indexación negativa y positiva:\\n Positivo:',L[1], '\\n Negativo:' , L[-2] )\n",
        "print('el mismo elemento usando indexación negativa y positiva:\\n Positivo:',L[2], '\\n Negativo:' , L[-1] )"
      ],
      "metadata": {
        "colab": {
          "base_uri": "https://localhost:8080/"
        },
        "id": "UeUw6VU6p0Ct",
        "outputId": "e04811e3-d28f-4650-a780-40234b213a97"
      },
      "execution_count": 4,
      "outputs": [
        {
          "output_type": "stream",
          "name": "stdout",
          "text": [
            "el mismo elemento usando indexación negativa y positiva:\n",
            " Positivo: The Bodyguard \n",
            " Negativo: The Bodyguard\n",
            "el mismo elemento usando indexación negativa y positiva:\n",
            " Positivo: 7.0 \n",
            " Negativo: 7.0\n",
            "el mismo elemento usando indexación negativa y positiva:\n",
            " Positivo: 1992 \n",
            " Negativo: 1992\n"
          ]
        }
      ]
    },
    {
      "cell_type": "code",
      "source": [
        "# Lista de muestra\n",
        "[\"The Bodyguard\", 7.0, 1992, [1, 2], (\"A\", 1)]"
      ],
      "metadata": {
        "colab": {
          "base_uri": "https://localhost:8080/"
        },
        "id": "88KMKuRRqPNW",
        "outputId": "e528209f-359a-4fec-b6b0-7a212474c712"
      },
      "execution_count": 5,
      "outputs": [
        {
          "output_type": "execute_result",
          "data": {
            "text/plain": [
              "['The Bodyguard', 7.0, 1992, [1, 2], ('A', 1)]"
            ]
          },
          "metadata": {},
          "execution_count": 5
        }
      ]
    },
    {
      "cell_type": "code",
      "source": [
        "# Lista de muestra\n",
        "L = [\"The Bodyguard\", 7.0,1992,\"BG\",1]\n",
        "L"
      ],
      "metadata": {
        "colab": {
          "base_uri": "https://localhost:8080/"
        },
        "id": "WxejnnsCqPpe",
        "outputId": "4f715282-63ce-4d92-bf06-7198b06e83be"
      },
      "execution_count": 6,
      "outputs": [
        {
          "output_type": "execute_result",
          "data": {
            "text/plain": [
              "['The Bodyguard', 7.0, 1992, 'BG', 1]"
            ]
          },
          "metadata": {},
          "execution_count": 6
        }
      ]
    },
    {
      "cell_type": "code",
      "source": [
        "# Segmentación de listas\n",
        "L[3:5]"
      ],
      "metadata": {
        "colab": {
          "base_uri": "https://localhost:8080/"
        },
        "id": "E8M8LgplqPx-",
        "outputId": "e2bc3d7f-5513-463d-cd52-c42b3dbfc0dc"
      },
      "execution_count": 7,
      "outputs": [
        {
          "output_type": "execute_result",
          "data": {
            "text/plain": [
              "['BG', 1]"
            ]
          },
          "metadata": {},
          "execution_count": 7
        }
      ]
    },
    {
      "cell_type": "code",
      "source": [
        "# Use extender para agregar elementos a la lista\n",
        "L = [ \"The Bodyguard\", 7.0]\n",
        "L.extend(['pop', 10])\n",
        "L"
      ],
      "metadata": {
        "colab": {
          "base_uri": "https://localhost:8080/"
        },
        "id": "5a_nfeGzq0xn",
        "outputId": "5d662a75-6a68-4cd5-be7c-e3b212c59555"
      },
      "execution_count": 8,
      "outputs": [
        {
          "output_type": "execute_result",
          "data": {
            "text/plain": [
              "['The Bodyguard', 7.0, 'pop', 10]"
            ]
          },
          "metadata": {},
          "execution_count": 8
        }
      ]
    },
    {
      "cell_type": "code",
      "source": [
        "# Usar append para agregar elementos a la lista\n",
        "L = [ \"The Bodyguard\", 7.0]\n",
        "L.append(['pop', 10])\n",
        "L"
      ],
      "metadata": {
        "colab": {
          "base_uri": "https://localhost:8080/"
        },
        "id": "2Nw11vayq0-f",
        "outputId": "24adbc32-2a30-41e1-fcff-b43d79ba53c3"
      },
      "execution_count": 9,
      "outputs": [
        {
          "output_type": "execute_result",
          "data": {
            "text/plain": [
              "['The Bodyguard', 7.0, ['pop', 10]]"
            ]
          },
          "metadata": {},
          "execution_count": 9
        }
      ]
    },
    {
      "cell_type": "code",
      "source": [
        "# Usar append para agregar elementos a la lista\n",
        "L.append(['a','b'])\n",
        "L"
      ],
      "metadata": {
        "colab": {
          "base_uri": "https://localhost:8080/"
        },
        "id": "ify9PwMRrfV3",
        "outputId": "f7d4d09e-8100-4f9e-e939-e601a12be864"
      },
      "execution_count": 10,
      "outputs": [
        {
          "output_type": "execute_result",
          "data": {
            "text/plain": [
              "['The Bodyguard', 7.0, ['pop', 10], ['a', 'b']]"
            ]
          },
          "metadata": {},
          "execution_count": 10
        }
      ]
    },
    {
      "cell_type": "code",
      "source": [
        "# Cambiar el elemento en función del índice\n",
        "A = [\"disco\", 10, 1.2]\n",
        "print('Before change:', A)\n",
        "A[0] = 'hard rock'\n",
        "print('After change:', A)"
      ],
      "metadata": {
        "colab": {
          "base_uri": "https://localhost:8080/"
        },
        "id": "oNzavmJerfuW",
        "outputId": "5161b016-fb64-43d3-ed23-7e11e42c9724"
      },
      "execution_count": 11,
      "outputs": [
        {
          "output_type": "stream",
          "name": "stdout",
          "text": [
            "Before change: ['disco', 10, 1.2]\n",
            "After change: ['hard rock', 10, 1.2]\n"
          ]
        }
      ]
    },
    {
      "cell_type": "code",
      "source": [
        "# Eliminar el elemento en función del índice\n",
        "print('Before change:', A)\n",
        "del(A[0])\n",
        "print('After change:', A)"
      ],
      "metadata": {
        "colab": {
          "base_uri": "https://localhost:8080/"
        },
        "id": "AepfCOt-rwuX",
        "outputId": "361ecd49-f254-4cf4-c859-471c0d4b7765"
      },
      "execution_count": 12,
      "outputs": [
        {
          "output_type": "stream",
          "name": "stdout",
          "text": [
            "Before change: ['hard rock', 10, 1.2]\n",
            "After change: [10, 1.2]\n"
          ]
        }
      ]
    },
    {
      "cell_type": "code",
      "source": [
        "# Divida la cadena, el valor predeterminado es por espacio\n",
        "'hard rock'.split()"
      ],
      "metadata": {
        "colab": {
          "base_uri": "https://localhost:8080/"
        },
        "id": "0GVTpSqRr61N",
        "outputId": "a55aa89e-e59f-49b8-b5c3-331e0436fa83"
      },
      "execution_count": 13,
      "outputs": [
        {
          "output_type": "execute_result",
          "data": {
            "text/plain": [
              "['hard', 'rock']"
            ]
          },
          "metadata": {},
          "execution_count": 13
        }
      ]
    },
    {
      "cell_type": "code",
      "source": [
        "# Dividir la cadena por coma\n",
        "'A,B,C,D'.split(',')"
      ],
      "metadata": {
        "colab": {
          "base_uri": "https://localhost:8080/"
        },
        "id": "TcuKdn_cr6_l",
        "outputId": "bea1d8ee-ff73-4ec4-d5ca-91822c9a5a83"
      },
      "execution_count": 14,
      "outputs": [
        {
          "output_type": "execute_result",
          "data": {
            "text/plain": [
              "['A', 'B', 'C', 'D']"
            ]
          },
          "metadata": {},
          "execution_count": 14
        }
      ]
    },
    {
      "cell_type": "code",
      "source": [
        "# Copiar (copiar por referencia) la lista A\n",
        "A = [\"hard rock\", 10, 1.2]\n",
        "B = A\n",
        "print('A:', A)\n",
        "print('B:', B)"
      ],
      "metadata": {
        "colab": {
          "base_uri": "https://localhost:8080/"
        },
        "id": "Q5tGMbQzsEp1",
        "outputId": "b17940d9-00ca-48ac-e133-a1cef1c156ec"
      },
      "execution_count": 15,
      "outputs": [
        {
          "output_type": "stream",
          "name": "stdout",
          "text": [
            "A: ['hard rock', 10, 1.2]\n",
            "B: ['hard rock', 10, 1.2]\n"
          ]
        }
      ]
    },
    {
      "cell_type": "code",
      "source": [
        "# Examinar la copia por referencia\n",
        "print('B[0]:', B[0])\n",
        "A[0] = \"banana\"\n",
        "print('B[0]:', B[0])"
      ],
      "metadata": {
        "colab": {
          "base_uri": "https://localhost:8080/"
        },
        "id": "9v1m91RjsFS9",
        "outputId": "ebce6a01-4e51-4bba-f2e4-02d6d5729556"
      },
      "execution_count": 16,
      "outputs": [
        {
          "output_type": "stream",
          "name": "stdout",
          "text": [
            "B[0]: hard rock\n",
            "B[0]: banana\n"
          ]
        }
      ]
    },
    {
      "cell_type": "code",
      "source": [
        "# Clonar (clonar por valor) la lista A\n",
        "B = A[:]\n",
        "B"
      ],
      "metadata": {
        "colab": {
          "base_uri": "https://localhost:8080/"
        },
        "id": "Qz3vEbipsdcw",
        "outputId": "53893311-9484-4405-b94f-a997dc8ee63b"
      },
      "execution_count": 18,
      "outputs": [
        {
          "output_type": "execute_result",
          "data": {
            "text/plain": [
              "['hard rock', 10, 1.2]"
            ]
          },
          "metadata": {},
          "execution_count": 18
        }
      ]
    },
    {
      "cell_type": "code",
      "source": [
        "print('B[0]:', B[0])\n",
        "A[0] = \"hard rock\"\n",
        "print('B[0]:', B[0])\n"
      ],
      "metadata": {
        "colab": {
          "base_uri": "https://localhost:8080/"
        },
        "id": "NYplpIkysdh2",
        "outputId": "29ce9155-256f-47d0-8443-2dc1c3ab40e2"
      },
      "execution_count": 17,
      "outputs": [
        {
          "output_type": "stream",
          "name": "stdout",
          "text": [
            "B[0]: banana\n",
            "B[0]: hard rock\n"
          ]
        }
      ]
    },
    {
      "cell_type": "markdown",
      "source": [
        "##Cuestionario de Listas\n",
        "##Escenario: Lista de compras\n"
      ],
      "metadata": {
        "id": "oaZIn9FdQX0q"
      }
    },
    {
      "cell_type": "code",
      "source": [
        "#CUESTIONARIO DE LISTAS\n",
        "#Crear lista\n",
        "a_list= [1,\"hello\",[1,2,3,],True]\n",
        "print(a_list)\n",
        "\n",
        "#Encuentre el valor almacenado en el índice 1 de a_list\n",
        "print(a_list[1])\n",
        "\n",
        "#Recupere los elementos almacenados en el índice 1, 2 y 3 de a_list\n",
        "a_list[1:4]\n",
        "\n",
        "\n"
      ],
      "metadata": {
        "colab": {
          "base_uri": "https://localhost:8080/"
        },
        "id": "0_-JYXJVUvLB",
        "outputId": "f7e47f2c-2255-405e-9e98-7a2f180cce7d"
      },
      "execution_count": null,
      "outputs": [
        {
          "output_type": "stream",
          "name": "stdout",
          "text": [
            "[1, 'hello', [1, 2, 3], True]\n",
            "hello\n"
          ]
        },
        {
          "output_type": "execute_result",
          "data": {
            "text/plain": [
              "['hello', [1, 2, 3], True]"
            ]
          },
          "metadata": {},
          "execution_count": 6
        }
      ]
    },
    {
      "cell_type": "code",
      "source": [
        "#LISTA COMPRAS\n",
        "#Crear una lista vacía\n",
        "lista_compras=[]\n",
        "\n",
        "#Almacene el número de elementos en el shopping_list\n",
        "lista_compras=[\"Reloj\",\"Portatil\",\"Calzado\",\"Pluma\",\"Ropa\"]\n",
        "print(lista_compras)\n",
        "#Agregar un nuevo elementos a la lista\n",
        "lista_compras=[\"Reloj\",\"Portátil\",\"Calzado\",\"Pluma\",\"Ropa\"]\n",
        "lista_compras.append(\"Fútbol\")\n",
        "print(lista_compras)\n",
        "\n",
        "#Imprime el primer elemento de la lista\n",
        "print(lista_compras[0])\n",
        "\n",
        "#Imprimir el último elemento\n",
        "print(lista_compras[-1])\n",
        "\n",
        "#Imprimir toda la lista\n",
        "print(lista_compras)\n"
      ],
      "metadata": {
        "id": "DFdOWcmuX9j5",
        "colab": {
          "base_uri": "https://localhost:8080/"
        },
        "outputId": "231c1448-f213-44fa-9e59-b0a9f0b5a25e"
      },
      "execution_count": null,
      "outputs": [
        {
          "output_type": "stream",
          "name": "stdout",
          "text": [
            "['Reloj', 'Portatil', 'Calzado', 'Pluma', 'Ropa']\n",
            "['Reloj', 'Portátil', 'Calzado', 'Pluma', 'Ropa', 'Fútbol']\n",
            "Reloj\n",
            "Fútbol\n",
            "['Reloj', 'Portátil', 'Calzado', 'Pluma', 'Ropa', 'Fútbol']\n"
          ]
        }
      ]
    },
    {
      "cell_type": "code",
      "source": [
        "#Imprimir el artículo que es importante comprar de la lista de compras\n",
        "print(lista_compras[1:3])\n",
        "\n",
        "#Cambiar el elemento del shopping_list\n",
        "lista_compras[3]= \"Cuaderno\"\n",
        "print(lista_compras)\n",
        "\n",
        "#Eliminar el elemento del shopping_list que no es necesario\n",
        "del(lista_compras[4])\n",
        "\n",
        "#Imprimir la lista de compras\n",
        "print(lista_compras)"
      ],
      "metadata": {
        "colab": {
          "base_uri": "https://localhost:8080/"
        },
        "id": "XgTPg37mJy7Z",
        "outputId": "aebb93e2-6f06-490f-9780-e19fef0bbb50"
      },
      "execution_count": null,
      "outputs": [
        {
          "output_type": "stream",
          "name": "stdout",
          "text": [
            "['Portátil', 'Calzado']\n",
            "['Reloj', 'Portátil', 'Calzado', 'Cuaderno', 'Ropa', 'Fútbol']\n",
            "['Reloj', 'Portátil', 'Calzado', 'Cuaderno', 'Fútbol']\n"
          ]
        }
      ]
    }
  ]
}