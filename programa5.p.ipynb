{
  "nbformat": 4,
  "nbformat_minor": 0,
  "metadata": {
    "colab": {
      "provenance": []
    },
    "kernelspec": {
      "name": "python3",
      "display_name": "Python 3"
    },
    "language_info": {
      "name": "python"
    }
  },
  "cells": [
    {
      "cell_type": "code",
      "execution_count": 14,
      "metadata": {
        "colab": {
          "base_uri": "https://localhost:8080/"
        },
        "id": "WwMZfo6qTDZK",
        "outputId": "b3a79db1-05e9-4077-e820-ef74da83d719"
      },
      "outputs": [
        {
          "output_type": "stream",
          "name": "stdout",
          "text": [
            "{'nombre': 'Paulina', 'matricula': 241690410, 'edad': 16, 'peso': 45, 'teléfono': '323-136-6234', 'domicilio': 'Fraccionamiento Villas Arana, Aurora Boreal #18', 'carrera': 'CDIA'}\n",
            "Paulina\n",
            "241690410\n",
            "16\n",
            "45\n",
            "323-136-6234\n",
            "Fraccionamiento Villas Arana, Aurora Boreal #18\n",
            "CDIA\n",
            "{'nombre': 'Dailannes', 'matricula': 241690410, 'edad': 16, 'peso': 45, 'teléfono': '323-136-6234', 'domicilio': 'Fraccionamiento Villas Arana, Aurora Boreal #18', 'carrera': 'CDIA'}\n",
            "nombre Dailannes\n",
            "matricula 241690410\n",
            "edad 16\n",
            "peso 45\n",
            "teléfono 323-136-6234\n",
            "domicilio Fraccionamiento Villas Arana, Aurora Boreal #18\n",
            "carrera CDIA\n"
          ]
        }
      ],
      "source": [
        "#Crea un diccionario con sus datos personales: Nombre, matricula, edad, peso, teléfono, domicilio, carrera.\n",
        "#Escribe las instrucciones necesarias para acceder y modificar sus elementos.\n",
        "#Escribe código para acceder a cada uno de sus elementos.\n",
        "#Imprime el contenido del diccionario iterando sus elementos.\n",
        "d1= {\n",
        "  \"nombre\": \"Paulina\",\n",
        "  \"matricula\": 241690415-5,\n",
        "  \"edad\": 16,\n",
        "  \"peso\": 45,\n",
        "  \"teléfono\": \"323-136-6234\",\n",
        "  \"domicilio\": \"Fraccionamiento Villas Arana, Aurora Boreal #18\",\n",
        "  \"carrera\": \"CDIA\"\n",
        "}\n",
        "print(d1)\n",
        "\n",
        "#Acceder a un elemento\n",
        "print(d1[\"nombre\"])\n",
        "print(d1[\"matricula\"])\n",
        "print(d1[\"edad\"])\n",
        "print(d1[\"peso\"])\n",
        "print(d1[\"teléfono\"])\n",
        "print(d1[\"domicilio\"])\n",
        "print(d1[\"carrera\"])\n",
        "\n",
        "\n",
        "#Modificar un elemento\n",
        "d1['nombre'] = \"Dailannes\"\n",
        "print(d1)\n",
        "\n",
        "#Imprimir iterando sus elementos\n",
        "for x, y in d1.items():\n",
        "  print (x,y)\n",
        "\n"
      ]
    }
  ]
}