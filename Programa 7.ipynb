{
  "nbformat": 4,
  "nbformat_minor": 0,
  "metadata": {
    "colab": {
      "provenance": []
    },
    "kernelspec": {
      "name": "python3",
      "display_name": "Python 3"
    },
    "language_info": {
      "name": "python"
    }
  },
  "cells": [
    {
      "cell_type": "markdown",
      "source": [
        "##Cuestionario de Listas\n",
        "##Escenario: Lista de compras\n"
      ],
      "metadata": {
        "id": "oaZIn9FdQX0q"
      }
    },
    {
      "cell_type": "code",
      "source": [
        "#CUESTIONARIO DE LISTAS\n",
        "#Crear lista\n",
        "a_list= [1,\"hello\",[1,2,3,],True]\n",
        "print(a_list)\n",
        "\n",
        "#Encuentre el valor almacenado en el índice 1 de a_list\n",
        "print(a_list[1])\n",
        "\n",
        "#Recupere los elementos almacenados en el índice 1, 2 y 3 de a_list\n",
        "a_list[1:4]\n",
        "\n",
        "\n"
      ],
      "metadata": {
        "colab": {
          "base_uri": "https://localhost:8080/"
        },
        "id": "0_-JYXJVUvLB",
        "outputId": "f7e47f2c-2255-405e-9e98-7a2f180cce7d"
      },
      "execution_count": 6,
      "outputs": [
        {
          "output_type": "stream",
          "name": "stdout",
          "text": [
            "[1, 'hello', [1, 2, 3], True]\n",
            "hello\n"
          ]
        },
        {
          "output_type": "execute_result",
          "data": {
            "text/plain": [
              "['hello', [1, 2, 3], True]"
            ]
          },
          "metadata": {},
          "execution_count": 6
        }
      ]
    },
    {
      "cell_type": "code",
      "source": [
        "#LISTA COMPRAS\n",
        "#Crear una lista vacía\n",
        "lista_compras=[]\n",
        "\n",
        "#Almacene el número de elementos en el shopping_list\n",
        "lista_compras=[\"Reloj\",\"Portatil\",\"Calzado\",\"Pluma\",\"Ropa\"]\n",
        "print(lista_compras)\n",
        "#Agregar un nuevo elementos a la lista\n",
        "lista_compras=[\"Reloj\",\"Portátil\",\"Calzado\",\"Pluma\",\"Ropa\"]\n",
        "lista_compras.append(\"Fútbol\")\n",
        "print(lista_compras)\n",
        "\n",
        "#Imprime el primer elemento de la lista\n",
        "print(lista_compras[0])\n",
        "\n",
        "#Imprimir el último elemento\n",
        "print(lista_compras[-1])\n",
        "\n",
        "#Imprimir toda la lista\n",
        "print(lista_compras)\n"
      ],
      "metadata": {
        "id": "DFdOWcmuX9j5",
        "colab": {
          "base_uri": "https://localhost:8080/"
        },
        "outputId": "231c1448-f213-44fa-9e59-b0a9f0b5a25e"
      },
      "execution_count": 9,
      "outputs": [
        {
          "output_type": "stream",
          "name": "stdout",
          "text": [
            "['Reloj', 'Portatil', 'Calzado', 'Pluma', 'Ropa']\n",
            "['Reloj', 'Portátil', 'Calzado', 'Pluma', 'Ropa', 'Fútbol']\n",
            "Reloj\n",
            "Fútbol\n",
            "['Reloj', 'Portátil', 'Calzado', 'Pluma', 'Ropa', 'Fútbol']\n"
          ]
        }
      ]
    },
    {
      "cell_type": "code",
      "source": [
        "#Imprimir el artículo que es importante comprar de la lista de compras\n",
        "print(lista_compras[1:3])\n",
        "\n",
        "#Cambiar el elemento del shopping_list\n",
        "lista_compras[3]= \"Cuaderno\"\n",
        "print(lista_compras)\n",
        "\n",
        "#Eliminar el elemento del shopping_list que no es necesario\n",
        "del(lista_compras[4])\n",
        "\n",
        "#Imprimir la lista de compras\n",
        "print(lista_compras)"
      ],
      "metadata": {
        "colab": {
          "base_uri": "https://localhost:8080/"
        },
        "id": "XgTPg37mJy7Z",
        "outputId": "aebb93e2-6f06-490f-9780-e19fef0bbb50"
      },
      "execution_count": 12,
      "outputs": [
        {
          "output_type": "stream",
          "name": "stdout",
          "text": [
            "['Portátil', 'Calzado']\n",
            "['Reloj', 'Portátil', 'Calzado', 'Cuaderno', 'Ropa', 'Fútbol']\n",
            "['Reloj', 'Portátil', 'Calzado', 'Cuaderno', 'Fútbol']\n"
          ]
        }
      ]
    }
  ]
}