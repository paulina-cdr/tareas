{
  "nbformat": 4,
  "nbformat_minor": 0,
  "metadata": {
    "colab": {
      "provenance": []
    },
    "kernelspec": {
      "name": "python3",
      "display_name": "Python 3"
    },
    "language_info": {
      "name": "python"
    }
  },
  "cells": [
    {
      "cell_type": "code",
      "execution_count": 2,
      "metadata": {
        "colab": {
          "base_uri": "https://localhost:8080/"
        },
        "id": "FSKxQs9pRSmZ",
        "outputId": "db3ffb38-3580-4fe1-8961-3f1e3033793c"
      },
      "outputs": [
        {
          "output_type": "stream",
          "name": "stdout",
          "text": [
            "Dime la calificación: 10\n",
            "Dime la calificación: 9.2\n",
            "Dime la calificación: 9.5\n",
            "Dime la calificación: 7\n",
            "Dime la calificación: 8\n",
            "Dime la calificación: 9\n",
            "Dime la calificación: 5.2\n",
            "Dime la calificación: 6.9\n",
            "Dime la calificación: 8.6\n",
            "Dime la calificación: 10\n",
            "Los promedios mayores a 8.5 son:  [10.0, 9.2, 9.5, 9.0, 8.6, 10.0]\n"
          ]
        }
      ],
      "source": [
        "#Elabora un programa que lea una lista de 10 calificaciones, el programa deberá imprimir los promedios superiores a 8.5.\n",
        "#Realize el programa haciendo una función que le a los 10 elemntos.\n",
        "#Realize una función que imprima los promedios superiores a 8.5\n",
        "cal=[]\n",
        "def leer(cal):\n",
        "  for i in range(10):\n",
        "    cal.append(float(input(\"Dime la calificación: \")))\n",
        "\n",
        "def promedio(cal):\n",
        "  p=[]\n",
        "  for i in (cal):\n",
        "      if (i>8.5):\n",
        "          p.append(i)\n",
        "  return p\n",
        "leer (cal)\n",
        "print(\"Los promedios mayores a 8.5 son: \", promedio(cal))"
      ]
    }
  ]
}