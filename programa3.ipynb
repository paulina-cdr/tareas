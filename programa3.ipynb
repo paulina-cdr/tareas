{
  "nbformat": 4,
  "nbformat_minor": 0,
  "metadata": {
    "colab": {
      "provenance": []
    },
    "kernelspec": {
      "name": "python3",
      "display_name": "Python 3"
    },
    "language_info": {
      "name": "python"
    }
  },
  "cells": [
    {
      "cell_type": "code",
      "execution_count": null,
      "metadata": {
        "colab": {
          "base_uri": "https://localhost:8080/"
        },
        "id": "Kpt7Kf1USXHT",
        "outputId": "75d8b9a6-c1ed-4ff9-ed38-408110b34ad4"
      },
      "outputs": [
        {
          "output_type": "stream",
          "name": "stdout",
          "text": [
            "Ingrese el nombre del trabajador: q\n",
            "Ingrese el sueldo del trabajador:1\n",
            "Ingrese el nombre del trabajador: w\n",
            "Ingrese el sueldo del trabajador:2\n",
            "Ingrese el nombre del trabajador: e\n",
            "Ingrese el sueldo del trabajador:3\n",
            "Ingrese el nombre del trabajador: r\n",
            "Ingrese el sueldo del trabajador:4\n",
            "Ingrese el nombre del trabajador: t\n",
            "Ingrese el sueldo del trabajador:50\n",
            "La nomina total es: 60.0\n",
            "El trabajador con más sueldo es:  t\n"
          ]
        }
      ],
      "source": [
        "#Instrucciones\n",
        "#Elabore un programa que:\n",
        "#Lea los sueldos de 5 trabajadores y sus nombres.\n",
        "#Elabore una función que obtenga el nombre del trabajador con más sueldo.\n",
        "#Imprima en otra funcion el nombre de la persona que gana más y la nomina total (Suma de todos los sueldos)\n",
        "#El programa debe tener 3 funciones: UNA PARA LEER LOS DATOS,\n",
        "#LA SEGUNDA PARA OBTENER LA NOMINA TOTAL Y DECIDIR QUIEN ES LA PERSONA QUE MÁS GANA Y LA TERCERA PARA IMPRIMIR EL RESULTADO.\n",
        "nombres = []\n",
        "sueldos = []\n",
        "def leer(nombres, sueldos):\n",
        "    for i in range(5):\n",
        "        nombres.append(input(\"Ingrese el nombre del trabajador: \"))\n",
        "        sueldos.append(float(input(\"Ingrese el sueldo del trabajador:\")))\n",
        "\n",
        "def msn(nombres, sueldos):\n",
        "    nm = \"\"\n",
        "    ms = sueldos[0]\n",
        "    for i in  range (len(sueldos)):\n",
        "        if (sueldos[i] > ms):\n",
        "            nm = nombres[i]\n",
        "    return nm\n",
        "\n",
        "def nominaTotal(nombres, sueldos):\n",
        "    total = 0\n",
        "    for i in sueldos:\n",
        "        total = total + i\n",
        "    print(\"La nomina total es:\", total)\n",
        "    print(\"El trabajador con más sueldo es: \", msn(nombres, sueldos))\n",
        "leer(nombres, sueldos)\n",
        "nominaTotal(nombres, sueldos)"
      ]
    }
  ]
}