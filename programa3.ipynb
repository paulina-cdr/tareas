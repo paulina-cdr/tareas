{
  "nbformat": 4,
  "nbformat_minor": 0,
  "metadata": {
    "colab": {
      "provenance": []
    },
    "kernelspec": {
      "name": "python3",
      "display_name": "Python 3"
    },
    "language_info": {
      "name": "python"
    }
  },
  "cells": [
    {
      "cell_type": "code",
      "execution_count": 13,
      "metadata": {
        "colab": {
          "base_uri": "https://localhost:8080/"
        },
        "id": "Kpt7Kf1USXHT",
        "outputId": "37b057a9-718e-414f-a0d8-3975093fac9d"
      },
      "outputs": [
        {
          "output_type": "stream",
          "name": "stdout",
          "text": [
            "Ingrese el nombre del trabajador: raul\n",
            "Ingrese el sueldo del trabajador:8\n",
            "Ingrese el nombre del trabajador: paulina\n",
            "Ingrese el sueldo del trabajador:7\n",
            "Ingrese el nombre del trabajador: rosa\n",
            "Ingrese el sueldo del trabajador:9\n",
            "Ingrese el nombre del trabajador: luis\n",
            "Ingrese el sueldo del trabajador:10\n",
            "Ingrese el nombre del trabajador: lucia\n",
            "Ingrese el sueldo del trabajador:6\n",
            "La nomina total es: 40.0\n",
            "El trabajador con más sueldo es:  luis\n"
          ]
        }
      ],
      "source": [
        "#Instrucciones\n",
        "#Elabore un programa que:\n",
        "#Lea los sueldos de 5 trabajadores y sus nombres.\n",
        "#Elabore una función que obtenga el nombre del trabajador con más sueldo.\n",
        "#Imprima en otra funcion el nombre de la persona que gana más y la nomina total (Suma de todos los sueldos)\n",
        "#El programa debe tener 3 funciones: UNA PARA LEER LOS DATOS,\n",
        "#LA SEGUNDA PARA OBTENER LA NOMINA TOTAL Y DECIDIR QUIEN ES LA PERSONA QUE MÁS GANA Y LA TERCERA PARA IMPRIMIR EL RESULTADO.\n",
        "nombres = []\n",
        "sueldos = []\n",
        "def leer(nombres, sueldos):\n",
        "    for i in range(5):\n",
        "        nombres.append(input(\"Ingrese el nombre del trabajador: \"))\n",
        "        sueldos.append(float(input(\"Ingrese el sueldo del trabajador:\")))\n",
        "\n",
        "def nm(nombres, sueldos):\n",
        "    nombre_sm= \"\"\n",
        "    ms = sueldos[0]\n",
        "    for i in  range (len(sueldos)):\n",
        "        if (sueldos[i] > ms):\n",
        "            nombre_sm = nombres[i]\n",
        "    return nombre_sm\n",
        "def nt(nombres, sueldos):\n",
        "    total = 0\n",
        "    for i in sueldos:\n",
        "        total = total + i\n",
        "    print(\"La nomina total es:\", total)\n",
        "    print(\"El trabajador con más sueldo es: \", nm(nombres, sueldos))\n",
        "leer(nombres, sueldos)\n",
        "nt(nombres, sueldos)"
      ]
    }
  ]
}