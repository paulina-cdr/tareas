{
  "nbformat": 4,
  "nbformat_minor": 0,
  "metadata": {
    "colab": {
      "provenance": []
    },
    "kernelspec": {
      "name": "python3",
      "display_name": "Python 3"
    },
    "language_info": {
      "name": "python"
    }
  },
  "cells": [
    {
      "cell_type": "code",
      "execution_count": 10,
      "metadata": {
        "colab": {
          "base_uri": "https://localhost:8080/"
        },
        "id": "fWUPRftSLmWD",
        "outputId": "d8589842-75a6-4b0e-a3d5-9e32e2ad581d"
      },
      "outputs": [
        {
          "output_type": "stream",
          "name": "stdout",
          "text": [
            " Dame el nombre: raúl\n",
            " Dime la calificación: 10\n",
            " Dame el nombre: paulina\n",
            " Dime la calificación: 8\n",
            " Dame el nombre: dariana\n",
            " Dime la calificación: 7\n",
            " Dame el nombre: eduardo\n",
            " Dime la calificación: 9\n",
            " Dame el nombre: lucia\n",
            " Dime la calificación: 10\n",
            " Dame el nombre: gloria\n",
            " Dime la calificación: 7\n",
            " Dame el nombre: juan\n",
            " Dime la calificación: 7\n",
            " Dame el nombre: valeria\n",
            " Dime la calificación: 6\n",
            " Dame el nombre: josé\n",
            " Dime la calificación: 7\n",
            " Dame el nombre: ashley\n",
            " Dime la calificación: 8\n",
            "Los alumnos con mayor promedio son:\n",
            "raúl\n",
            "eduardo\n",
            "lucia\n"
          ]
        }
      ],
      "source": [
        "#Elabora un programa que lea en una función una lista de 10 calificaciones y en otro arreglo los nombres de esas personas.\n",
        "#El programa deberá en otra función,  imprimir los nombres de las personas cuyo promedio sea superior a 8.5.\n",
        "cal=[]\n",
        "nombres=[]\n",
        "nmayor=[]\n",
        "def leer (cal,nombres):\n",
        "  for i in range(10):\n",
        "    nombres.append(input(\" Dame el nombre: \"))\n",
        "    cal.append(float(input(\" Dime la calificación: \")))\n",
        "\n",
        "def alumno_mayor (cal,nombres,nmayor):\n",
        "  for i in range(10):\n",
        "    if (cal [i]>8.5):\n",
        "      nmayor.append(nombres[i])\n",
        "\n",
        "def resultado(nmayor):\n",
        "  print(\"Los alumnos con mayor promedio son:\")\n",
        "  for i in nmayor:\n",
        "      print(f\"{i}\")\n",
        "\n",
        "leer(cal,nombres)\n",
        "alumno_mayor(cal,nombres,nmayor)\n",
        "resultado(nmayor)"
      ]
    }
  ]
}