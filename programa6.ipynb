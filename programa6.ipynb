{
  "nbformat": 4,
  "nbformat_minor": 0,
  "metadata": {
    "colab": {
      "provenance": []
    },
    "kernelspec": {
      "name": "python3",
      "display_name": "Python 3"
    },
    "language_info": {
      "name": "python"
    }
  },
  "cells": [
    {
      "cell_type": "code",
      "execution_count": 3,
      "metadata": {
        "colab": {
          "base_uri": "https://localhost:8080/"
        },
        "id": "lv8N_ci4fvNm",
        "outputId": "f3fe5e6f-eefc-4207-8fbc-83ff08ddd2ba"
      },
      "outputs": [
        {
          "output_type": "stream",
          "name": "stdout",
          "text": [
            "Las temperaturas en farenheit son [80, 72, 95, 82, 79, 72, 85]\n",
            "Las temperaturas en celsius son [26.666666666666668, 22.22222222222222, 35.0, 27.77777777777778, 26.11111111111111, 22.22222222222222, 29.444444444444443]\n"
          ]
        }
      ],
      "source": [
        "#Realiza programas utilizando listas, realizando operaciones sobre las mismas.\n",
        "#Instrucciones\n",
        "#Elabora un programa según el siguiente planteamiento:\n",
        "#En la estación metereología de la ciudad de Tepic Nayarit, almacenaron en una lista las temperaturas del día de hoy.\n",
        "#temp= [80, 72, 95, 82, 79, 72, 85]\n",
        "#El administrador se dio cuenta que las temperaturas estaban en grados Fahrenheit,\n",
        "# elabore un programa en Python que convierta las temperaturas de la lista de grados FAHRENHEIT A CENTIGRADOS.\n",
        "temp= [80, 72, 95, 82, 79, 72, 85]\n",
        "celsius = []\n",
        "for fahrenheit in temp:\n",
        "    celsius_temp= (fahrenheit - 32) * 5/9\n",
        "    celsius.append(celsius_temp)\n",
        "print(\"Las temperaturas en farenheit son\", temp)\n",
        "print(\"Las temperaturas en celsius son\", celsius)"
      ]
    }
  ]
}